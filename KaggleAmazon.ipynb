{
 "cells": [
  {
   "cell_type": "markdown",
   "metadata": {
    "collapsed": true
   },
   "source": [
    "Blog: https://medium.com/@kunlun.liu/amazon-employee-access-challenge-4e522abe3f46\n",
    "Kaggle Link: https://www.kaggle.com/c/amazon-employee-access-challenge/submissions?sortBy=date&group=all&page=1\n",
    "\n",
    "<img style=\"float: right;\" src=\"kscore.png\">"
   ]
  },
  {
   "cell_type": "code",
   "execution_count": 2,
   "metadata": {
    "collapsed": true
   },
   "outputs": [],
   "source": [
    "#import relevant packages\n",
    "import pandas as pd\n",
    "import numpy as np\n",
    "import matplotlib.pyplot as plt\n",
    "import seaborn as sns; sns.set()\n",
    "\n",
    "from sklearn.ensemble import RandomForestClassifier, AdaBoostClassifier, GradientBoostingClassifier, ExtraTreesClassifier\n",
    "from sklearn.linear_model import LogisticRegression\n",
    "\n",
    "from sklearn.feature_selection import f_regression\n",
    "from sklearn.feature_selection import SelectKBest\n",
    "\n",
    "from sklearn.model_selection import train_test_split \n",
    "from sklearn.metrics import roc_curve, auc\n",
    "\n",
    "from sklearn.ensemble import VotingClassifier\n",
    "from sklearn.model_selection import cross_val_score, GridSearchCV,RandomizedSearchCV"
   ]
  },
  {
   "cell_type": "code",
   "execution_count": 3,
   "metadata": {
    "collapsed": true
   },
   "outputs": [],
   "source": [
    "#read in train and test data set\n",
    "train = pd.read_csv(\"data/train.csv\")\n",
    "test = pd.read_csv(\"data/test.csv\")\n",
    "\n",
    "y = train[\"ACTION\"] #save action for target"
   ]
  },
  {
   "cell_type": "code",
   "execution_count": 4,
   "metadata": {
    "collapsed": false
   },
   "outputs": [
    {
     "data": {
      "text/html": [
       "<div>\n",
       "<table border=\"1\" class=\"dataframe\">\n",
       "  <thead>\n",
       "    <tr style=\"text-align: right;\">\n",
       "      <th></th>\n",
       "      <th>RESOURCE</th>\n",
       "      <th>MGR_ID</th>\n",
       "      <th>ROLE_ROLLUP_1</th>\n",
       "      <th>ROLE_ROLLUP_2</th>\n",
       "      <th>ROLE_DEPTNAME</th>\n",
       "      <th>ROLE_TITLE</th>\n",
       "      <th>ROLE_FAMILY_DESC</th>\n",
       "      <th>ROLE_FAMILY</th>\n",
       "      <th>ROLE_CODE</th>\n",
       "    </tr>\n",
       "  </thead>\n",
       "  <tbody>\n",
       "    <tr>\n",
       "      <th>0</th>\n",
       "      <td>39353</td>\n",
       "      <td>85475</td>\n",
       "      <td>117961</td>\n",
       "      <td>118300</td>\n",
       "      <td>123472</td>\n",
       "      <td>117905</td>\n",
       "      <td>117906</td>\n",
       "      <td>290919</td>\n",
       "      <td>117908</td>\n",
       "    </tr>\n",
       "    <tr>\n",
       "      <th>1</th>\n",
       "      <td>17183</td>\n",
       "      <td>1540</td>\n",
       "      <td>117961</td>\n",
       "      <td>118343</td>\n",
       "      <td>123125</td>\n",
       "      <td>118536</td>\n",
       "      <td>118536</td>\n",
       "      <td>308574</td>\n",
       "      <td>118539</td>\n",
       "    </tr>\n",
       "    <tr>\n",
       "      <th>2</th>\n",
       "      <td>36724</td>\n",
       "      <td>14457</td>\n",
       "      <td>118219</td>\n",
       "      <td>118220</td>\n",
       "      <td>117884</td>\n",
       "      <td>117879</td>\n",
       "      <td>267952</td>\n",
       "      <td>19721</td>\n",
       "      <td>117880</td>\n",
       "    </tr>\n",
       "    <tr>\n",
       "      <th>3</th>\n",
       "      <td>36135</td>\n",
       "      <td>5396</td>\n",
       "      <td>117961</td>\n",
       "      <td>118343</td>\n",
       "      <td>119993</td>\n",
       "      <td>118321</td>\n",
       "      <td>240983</td>\n",
       "      <td>290919</td>\n",
       "      <td>118322</td>\n",
       "    </tr>\n",
       "    <tr>\n",
       "      <th>4</th>\n",
       "      <td>42680</td>\n",
       "      <td>5905</td>\n",
       "      <td>117929</td>\n",
       "      <td>117930</td>\n",
       "      <td>119569</td>\n",
       "      <td>119323</td>\n",
       "      <td>123932</td>\n",
       "      <td>19793</td>\n",
       "      <td>119325</td>\n",
       "    </tr>\n",
       "  </tbody>\n",
       "</table>\n",
       "</div>"
      ],
      "text/plain": [
       "   RESOURCE  MGR_ID  ROLE_ROLLUP_1  ROLE_ROLLUP_2  ROLE_DEPTNAME  ROLE_TITLE  \\\n",
       "0     39353   85475         117961         118300         123472      117905   \n",
       "1     17183    1540         117961         118343         123125      118536   \n",
       "2     36724   14457         118219         118220         117884      117879   \n",
       "3     36135    5396         117961         118343         119993      118321   \n",
       "4     42680    5905         117929         117930         119569      119323   \n",
       "\n",
       "   ROLE_FAMILY_DESC  ROLE_FAMILY  ROLE_CODE  \n",
       "0            117906       290919     117908  \n",
       "1            118536       308574     118539  \n",
       "2            267952        19721     117880  \n",
       "3            240983       290919     118322  \n",
       "4            123932        19793     119325  "
      ]
     },
     "execution_count": 4,
     "metadata": {},
     "output_type": "execute_result"
    }
   ],
   "source": [
    "#remove action for training set\n",
    "train.pop(\"ACTION\")\n",
    "\n",
    "train.head()"
   ]
  },
  {
   "cell_type": "code",
   "execution_count": 5,
   "metadata": {
    "collapsed": false
   },
   "outputs": [
    {
     "data": {
      "text/html": [
       "<div>\n",
       "<table border=\"1\" class=\"dataframe\">\n",
       "  <thead>\n",
       "    <tr style=\"text-align: right;\">\n",
       "      <th></th>\n",
       "      <th>RESOURCE</th>\n",
       "      <th>MGR_ID</th>\n",
       "      <th>ROLE_ROLLUP_1</th>\n",
       "      <th>ROLE_ROLLUP_2</th>\n",
       "      <th>ROLE_DEPTNAME</th>\n",
       "      <th>ROLE_TITLE</th>\n",
       "      <th>ROLE_FAMILY_DESC</th>\n",
       "      <th>ROLE_FAMILY</th>\n",
       "      <th>ROLE_CODE</th>\n",
       "    </tr>\n",
       "  </thead>\n",
       "  <tbody>\n",
       "    <tr>\n",
       "      <th>0</th>\n",
       "      <td>78766</td>\n",
       "      <td>72734</td>\n",
       "      <td>118079</td>\n",
       "      <td>118080</td>\n",
       "      <td>117878</td>\n",
       "      <td>117879</td>\n",
       "      <td>118177</td>\n",
       "      <td>19721</td>\n",
       "      <td>117880</td>\n",
       "    </tr>\n",
       "    <tr>\n",
       "      <th>1</th>\n",
       "      <td>40644</td>\n",
       "      <td>4378</td>\n",
       "      <td>117961</td>\n",
       "      <td>118327</td>\n",
       "      <td>118507</td>\n",
       "      <td>118863</td>\n",
       "      <td>122008</td>\n",
       "      <td>118398</td>\n",
       "      <td>118865</td>\n",
       "    </tr>\n",
       "    <tr>\n",
       "      <th>2</th>\n",
       "      <td>75443</td>\n",
       "      <td>2395</td>\n",
       "      <td>117961</td>\n",
       "      <td>118300</td>\n",
       "      <td>119488</td>\n",
       "      <td>118172</td>\n",
       "      <td>301534</td>\n",
       "      <td>249618</td>\n",
       "      <td>118175</td>\n",
       "    </tr>\n",
       "    <tr>\n",
       "      <th>3</th>\n",
       "      <td>43219</td>\n",
       "      <td>19986</td>\n",
       "      <td>117961</td>\n",
       "      <td>118225</td>\n",
       "      <td>118403</td>\n",
       "      <td>120773</td>\n",
       "      <td>136187</td>\n",
       "      <td>118960</td>\n",
       "      <td>120774</td>\n",
       "    </tr>\n",
       "    <tr>\n",
       "      <th>4</th>\n",
       "      <td>42093</td>\n",
       "      <td>50015</td>\n",
       "      <td>117961</td>\n",
       "      <td>118343</td>\n",
       "      <td>119598</td>\n",
       "      <td>118422</td>\n",
       "      <td>300136</td>\n",
       "      <td>118424</td>\n",
       "      <td>118425</td>\n",
       "    </tr>\n",
       "  </tbody>\n",
       "</table>\n",
       "</div>"
      ],
      "text/plain": [
       "   RESOURCE  MGR_ID  ROLE_ROLLUP_1  ROLE_ROLLUP_2  ROLE_DEPTNAME  ROLE_TITLE  \\\n",
       "0     78766   72734         118079         118080         117878      117879   \n",
       "1     40644    4378         117961         118327         118507      118863   \n",
       "2     75443    2395         117961         118300         119488      118172   \n",
       "3     43219   19986         117961         118225         118403      120773   \n",
       "4     42093   50015         117961         118343         119598      118422   \n",
       "\n",
       "   ROLE_FAMILY_DESC  ROLE_FAMILY  ROLE_CODE  \n",
       "0            118177        19721     117880  \n",
       "1            122008       118398     118865  \n",
       "2            301534       249618     118175  \n",
       "3            136187       118960     120774  \n",
       "4            300136       118424     118425  "
      ]
     },
     "execution_count": 5,
     "metadata": {},
     "output_type": "execute_result"
    }
   ],
   "source": [
    "#remove id for testing set\n",
    "test.pop(\"id\")\n",
    "\n",
    "test.head()"
   ]
  },
  {
   "cell_type": "markdown",
   "metadata": {},
   "source": [
    "# Train LogisticRegression Model by One Hot Encoded Data"
   ]
  },
  {
   "cell_type": "code",
   "execution_count": 5,
   "metadata": {
    "collapsed": false
   },
   "outputs": [
    {
     "name": "stdout",
     "output_type": "stream",
     "text": [
      "The all_data size is : (91690, 9) \n",
      "The all_data_dummies size is : (91690, 16952) \n"
     ]
    }
   ],
   "source": [
    "#combine train and test vertically \n",
    "all_data = pd.concat([train, test],axis=0)\n",
    "print(\"The all_data size is : {} \".format(all_data.shape))\n",
    "\n",
    "# one hot encoding for all columns\n",
    "all_data_dummies = pd.get_dummies(all_data, columns=all_data.columns, drop_first=True) #one hot encoding\n",
    "print(\"The all_data_dummies size is : {} \".format(all_data_dummies.shape))"
   ]
  },
  {
   "cell_type": "code",
   "execution_count": 6,
   "metadata": {
    "collapsed": false
   },
   "outputs": [
    {
     "name": "stdout",
     "output_type": "stream",
     "text": [
      "The target size is : (32769,) \n",
      "The  new_train size is : (32769, 16952) \n",
      "The  new_test size is : (58921, 16952) \n"
     ]
    }
   ],
   "source": [
    "#Split combined data set\n",
    "print(\"The target size is : {} \".format(y.shape))\n",
    "\n",
    "lr_train = all_data_dummies.iloc[:y.shape[0]]\n",
    "lr_test = all_data_dummies.iloc[y.shape[0]:]\n",
    "\n",
    "print(\"The  new_train size is : {} \".format(lr_train.shape))\n",
    "print(\"The  new_test size is : {} \".format(lr_test.shape))"
   ]
  },
  {
   "cell_type": "code",
   "execution_count": 7,
   "metadata": {
    "collapsed": true
   },
   "outputs": [],
   "source": [
    "#Eliminate umimportant features and select the best 8000 features\n",
    "\n",
    "#featureSelector = SelectKBest(score_func=f_regression,k=8000)\n",
    "#featureSelector = featureSelector.fit(lr_train,y)\n",
    "\n",
    "#lr_train = featureSelector.transform(lr_train)\n",
    "#lr_test = featureSelector.transform(lr_test)\n",
    "\n",
    "#lr_train.shape"
   ]
  },
  {
   "cell_type": "code",
   "execution_count": 8,
   "metadata": {
    "collapsed": true
   },
   "outputs": [],
   "source": [
    "lr = LogisticRegression(random_state=333,C=0.99,class_weight=\"balanced\",penalty=\"l1\")#random_state=123, penalty=\"l1\")\n",
    "\n",
    "\n",
    "#print(cross_val_score(lr, lr_train,y,cv=5,scoring='roc_auc').mean())"
   ]
  },
  {
   "cell_type": "code",
   "execution_count": 9,
   "metadata": {
    "collapsed": true
   },
   "outputs": [],
   "source": [
    "#split data for roc_curve\n",
    "lr_X_train, lr_X_test, lr_y_train, lr_y_test = train_test_split(lr_train, y, test_size=0.4)"
   ]
  },
  {
   "cell_type": "code",
   "execution_count": 10,
   "metadata": {
    "collapsed": false
   },
   "outputs": [
    {
     "data": {
      "image/png": "[encoded data removed]",
      "text/plain": [
       "<matplotlib.figure.Figure at 0x1b9e78e37b8>"
      ]
     },
     "metadata": {},
     "output_type": "display_data"
    }
   ],
   "source": [
    "lr.fit(lr_X_train,lr_y_train)\n",
    "lr_pred_proba = lr.predict_proba(lr_X_test)\n",
    "\n",
    "plt.hist(lr_pred_proba,bins=20)\n",
    "plt.xlim([0.0,1.0])\n",
    "\n",
    "plt.show()"
   ]
  },
  {
   "cell_type": "code",
   "execution_count": 11,
   "metadata": {
    "collapsed": false
   },
   "outputs": [
    {
     "data": {
      "image/png": "[encoded data removed]",
      "text/plain": [
       "<matplotlib.figure.Figure at 0x1b993fa54a8>"
      ]
     },
     "metadata": {},
     "output_type": "display_data"
    }
   ],
   "source": [
    "fpr, tpr, thresholds = roc_curve(lr_y_test.values,lr_pred_proba[:,1])\n",
    "\n",
    "plt.plot(fpr,tpr)\n",
    "plt.xlim([0.0,1.0])\n",
    "plt.ylim([0.0,1.0])\n",
    "\n",
    "plt.title(\"Amazon Employee Access\")\n",
    "plt.xlabel(\"False Positive\")\n",
    "plt.ylabel(\"True Positive\")\n",
    "\n",
    "plt.grid(True)\n",
    "plt.show()"
   ]
  },
  {
   "cell_type": "markdown",
   "metadata": {},
   "source": [
    "# Train RandomFroest"
   ]
  },
  {
   "cell_type": "code",
   "execution_count": 6,
   "metadata": {
    "collapsed": false
   },
   "outputs": [
    {
     "name": "stdout",
     "output_type": "stream",
     "text": [
      "The train data size after removing is : (32769, 8) \n",
      "The target size is : (32769,) \n",
      "The test data size after removing is : (58921, 8) \n"
     ]
    }
   ],
   "source": [
    "#remove ROLE_CODE since it is redundant\n",
    "\n",
    "train.pop(\"ROLE_CODE\")\n",
    "test.pop(\"ROLE_CODE\")\n",
    "\n",
    "#check the numbers of samples and features\n",
    "print(\"The train data size after removing is : {} \".format(train.shape))\n",
    "print(\"The target size is : {} \".format(y.shape))\n",
    "print(\"The test data size after removing is : {} \".format(test.shape))"
   ]
  },
  {
   "cell_type": "code",
   "execution_count": 7,
   "metadata": {
    "collapsed": false
   },
   "outputs": [
    {
     "name": "stdout",
     "output_type": "stream",
     "text": [
      "The all_data size is : (91690, 8) \n"
     ]
    }
   ],
   "source": [
    "rf_all_data = pd.concat([train, test],axis=0)\n",
    "print(\"The all_data size is : {} \".format(rf_all_data.shape))"
   ]
  },
  {
   "cell_type": "code",
   "execution_count": 8,
   "metadata": {
    "collapsed": true
   },
   "outputs": [],
   "source": [
    "#for each distict value in each column add a column includes its frenquency\n",
    "def add_counts(data):\n",
    "    for col in data.columns: \n",
    "        count = data[col].value_counts() # returns a series of counts for each category.\n",
    "        data['count_'+col] = data[col].replace(count)\n",
    "    return data\n",
    "\n",
    "train = add_counts(rf_all_data)"
   ]
  },
  {
   "cell_type": "code",
   "execution_count": 9,
   "metadata": {
    "collapsed": false
   },
   "outputs": [
    {
     "name": "stdout",
     "output_type": "stream",
     "text": [
      "The target size is : (32769,) \n",
      "The  new_train size is : (32769, 16) \n",
      "The  new_test size is : (58921, 16) \n"
     ]
    }
   ],
   "source": [
    "#Split combined data set\n",
    "print(\"The target size is : {} \".format(y.shape))\n",
    "\n",
    "rf_train = rf_all_data.iloc[:y.shape[0]]\n",
    "rf_test = rf_all_data.iloc[y.shape[0]:]\n",
    "\n",
    "print(\"The  new_train size is : {} \".format(rf_train.shape))\n",
    "print(\"The  new_test size is : {} \".format(rf_test.shape))"
   ]
  },
  {
   "cell_type": "code",
   "execution_count": 16,
   "metadata": {
    "collapsed": false
   },
   "outputs": [],
   "source": [
    "rf = RandomForestClassifier(criterion=\"gini\",\n",
    "                           n_estimators=300,#250\n",
    "                            min_samples_split=9,\n",
    "                            min_samples_leaf=3,\n",
    "                            max_features=0.5,\n",
    "                           random_state=66,\n",
    "                           n_jobs=-1)\n",
    "\n",
    "#print(cross_val_score(rf, rf_train.values,y,cv=5,scoring='roc_auc').mean())\n",
    "#0.873761375477"
   ]
  },
  {
   "cell_type": "code",
   "execution_count": 17,
   "metadata": {
    "collapsed": true
   },
   "outputs": [],
   "source": [
    "#hyper paramters tunning fro random forest\n",
    "\n",
    "#params = {\"n_estimators\":[300,350],\n",
    "         #\"min_samples_split\":[6,9,12]}\n",
    "\n",
    "\n",
    "#grid = GridSearchCV(estimator=rf, param_grid=params, cv=5, scoring = 'roc_auc')\n",
    "#grid.fit(train,y)\n",
    "\n",
    "#print(grid.best_score_)\n",
    "#print(grid.best_params_)\n",
    "#print(grid.best_estimator_)"
   ]
  },
  {
   "cell_type": "code",
   "execution_count": 10,
   "metadata": {
    "collapsed": true
   },
   "outputs": [],
   "source": [
    "rf_X_train, rf_X_test, rf_y_train, rf_y_test = train_test_split(rf_train, y, test_size=0.4)"
   ]
  },
  {
   "cell_type": "code",
   "execution_count": 19,
   "metadata": {
    "collapsed": false
   },
   "outputs": [
    {
     "data": {
      "image/png": "[encoded data removed]",
      "text/plain": [
       "<matplotlib.figure.Figure at 0x1b994ff4278>"
      ]
     },
     "metadata": {},
     "output_type": "display_data"
    }
   ],
   "source": [
    "rf.fit(rf_X_train,rf_y_train)\n",
    "rf_pred_proba = rf.predict_proba(rf_X_test)\n",
    "\n",
    "plt.hist(rf_pred_proba,bins=20)\n",
    "plt.xlim([0.0,1.0])\n",
    "\n",
    "plt.show()"
   ]
  },
  {
   "cell_type": "code",
   "execution_count": 20,
   "metadata": {
    "collapsed": false
   },
   "outputs": [
    {
     "data": {
      "image/png": "[encoded data removed]",
      "text/plain": [
       "<matplotlib.figure.Figure at 0x1b994fa4ac8>"
      ]
     },
     "metadata": {},
     "output_type": "display_data"
    }
   ],
   "source": [
    "fpr, tpr, thresholds = roc_curve(rf_y_test.values,rf_pred_proba[:,1])\n",
    "\n",
    "plt.plot(fpr,tpr)\n",
    "plt.xlim([0.0,1.0])\n",
    "plt.ylim([0.0,1.0])\n",
    "\n",
    "plt.title(\"Amazon Employee Access\")\n",
    "plt.xlabel(\"False Positive\")\n",
    "plt.ylabel(\"True Positive\")\n",
    "\n",
    "plt.grid(True)\n",
    "plt.show()"
   ]
  },
  {
   "cell_type": "markdown",
   "metadata": {},
   "source": [
    "# Try Gradient Boosting"
   ]
  },
  {
   "cell_type": "code",
   "execution_count": 11,
   "metadata": {
    "collapsed": true
   },
   "outputs": [],
   "source": [
    "gbc_train = rf_train\n",
    "gbc_test = rf_test"
   ]
  },
  {
   "cell_type": "code",
   "execution_count": 12,
   "metadata": {
    "collapsed": false
   },
   "outputs": [
    {
     "data": {
      "text/plain": [
       "array([[ 1.16802002,  1.3113764 ,  0.09720754, ...,  0.08437938,\n",
       "        -0.49106582, -0.34020656],\n",
       "       [ 0.03737748, -0.63553629,  0.08628703, ..., -0.73172713,\n",
       "        -0.54167847, -0.695597  ],\n",
       "       [ 1.06946472, -0.69201601,  0.08628703, ..., -0.77347051,\n",
       "        -0.49179302, -0.95396075],\n",
       "       ..., \n",
       "       [-0.00361061, -0.58609161,  0.08628703, ..., -0.68458994,\n",
       "        -0.47724915,  1.48059755],\n",
       "       [-1.1377232 , -0.5131778 ,  0.08628703, ...,  2.01770755,\n",
       "         2.06501849,  1.48059755],\n",
       "       [ 0.16588789, -0.64863799,  0.08628703, ..., -0.67239525,\n",
       "        -0.40278456, -0.30585014]])"
      ]
     },
     "execution_count": 12,
     "metadata": {},
     "output_type": "execute_result"
    }
   ],
   "source": [
    "# Standardizing input data\n",
    "\n",
    "from sklearn.preprocessing import StandardScaler \n",
    "SS = StandardScaler(copy=False, with_mean=True, with_std=True) \n",
    "SS.fit_transform(gbc_train)\n",
    "SS.fit_transform(gbc_test)\n"
   ]
  },
  {
   "cell_type": "code",
   "execution_count": 14,
   "metadata": {
    "collapsed": false
   },
   "outputs": [],
   "source": [
    "gbc = GradientBoostingClassifier(n_estimators=3000, min_samples_split=9)\n",
    "\n",
    "\n",
    "#gbc.fit(train,y)\n",
    "#print(cross_val_score(gbc, gbc_train,y,cv=5,scoring='roc_auc').mean())"
   ]
  },
  {
   "cell_type": "code",
   "execution_count": 15,
   "metadata": {
    "collapsed": false
   },
   "outputs": [],
   "source": [
    "#param_dist = {\"n_estimators\":[2000,3000],\n",
    "             #\"min_samples_split\":[9,7]}                          \n",
    "\n",
    "\n",
    "# run randomized search\n",
    "#n_iter_search = 3 \n",
    "#random_search = RandomizedSearchCV(gbc, param_distributions=param_dist, n_iter=n_iter_search,scoring='roc_auc')\n",
    "\n",
    "#random_search.fit(gbc_train, y)\n",
    "\n",
    "#print(random_search.best_score_)\n",
    "#print(random_search.best_params_)"
   ]
  },
  {
   "cell_type": "code",
   "execution_count": 17,
   "metadata": {
    "collapsed": false
   },
   "outputs": [
    {
     "data": {
      "image/png": "[encoded data removed]",
      "text/plain": [
       "<matplotlib.figure.Figure at 0x1faaf0d79b0>"
      ]
     },
     "metadata": {},
     "output_type": "display_data"
    }
   ],
   "source": [
    "#gbc.fit(rf_X_train,rf_y_train)\n",
    "#gbc_pred_proba = gbc.predict_proba(rf_X_test)\n",
    "\n",
    "plt.hist(gbc_pred_proba,bins=20)\n",
    "plt.xlim([0.0,1.0])\n",
    "\n",
    "plt.show()"
   ]
  },
  {
   "cell_type": "code",
   "execution_count": null,
   "metadata": {
    "collapsed": false
   },
   "outputs": [],
   "source": [
    "fpr, tpr, thresholds = roc_curve(rf_y_test.values,gbc_pred_proba[:,1])\n",
    "\n",
    "plt.plot(fpr,tpr)\n",
    "plt.xlim([0.0,1.0])\n",
    "plt.ylim([0.0,1.0])\n",
    "\n",
    "plt.title(\"Amazon Employee Access\")\n",
    "plt.xlabel(\"False Positive\")\n",
    "plt.ylabel(\"True Positive\")\n",
    "\n",
    "plt.grid(True)\n",
    "plt.show()"
   ]
  },
  {
   "cell_type": "markdown",
   "metadata": {},
   "source": [
    "# Combined Model"
   ]
  },
  {
   "cell_type": "code",
   "execution_count": 27,
   "metadata": {
    "collapsed": false
   },
   "outputs": [
    {
     "data": {
      "image/png": "[encoded data removed]",
      "text/plain": [
       "<matplotlib.figure.Figure at 0x1b994f94b38>"
      ]
     },
     "metadata": {},
     "output_type": "display_data"
    }
   ],
   "source": [
    "combine_pred_proba = 0.2*lr_pred_proba + 0.8*rf_pred_proba #+ gbm_pred_proba + gbc_pred_proba)/4\n",
    "\n",
    "\n",
    "plt.hist(combine_pred_proba,bins=20)\n",
    "plt.xlim([0.0,1.0])\n",
    "\n",
    "plt.show()"
   ]
  },
  {
   "cell_type": "code",
   "execution_count": 28,
   "metadata": {
    "collapsed": false
   },
   "outputs": [
    {
     "data": {
      "image/png": "[encoded data removed]",
      "text/plain": [
       "<matplotlib.figure.Figure at 0x1b994402080>"
      ]
     },
     "metadata": {},
     "output_type": "display_data"
    }
   ],
   "source": [
    "fpr, tpr, thresholds = roc_curve(lr_y_test.values,combine_pred_proba[:,1])\n",
    "\n",
    "plt.plot(fpr,tpr)\n",
    "plt.xlim([0.0,1.0])\n",
    "plt.ylim([0.0,1.0])\n",
    "\n",
    "plt.title(\"Amazon Employee Access\")\n",
    "plt.xlabel(\"False Positive\")\n",
    "plt.ylabel(\"True Positive\")\n",
    "\n",
    "plt.grid(True)\n",
    "plt.show()"
   ]
  },
  {
   "cell_type": "code",
   "execution_count": 29,
   "metadata": {
    "collapsed": false
   },
   "outputs": [],
   "source": [
    "#print cross validition scores\n",
    "\n",
    "#print(\"Logistic Regression : {}\".format(cross_val_score(lr, lr_train,y,cv=5,scoring='roc_auc').mean()))\n",
    "#print(\"Random Forest : \".format(cross_val_score(rf, rf_train,y,cv=5,scoring='roc_auc').mean()))\n"
   ]
  },
  {
   "cell_type": "code",
   "execution_count": 30,
   "metadata": {
    "collapsed": false
   },
   "outputs": [],
   "source": [
    "#fit logistic regression and predict proba\n",
    "lr.fit(lr_train,y)\n",
    "lr_pred = lr.predict_proba(lr_test)"
   ]
  },
  {
   "cell_type": "code",
   "execution_count": 31,
   "metadata": {
    "collapsed": true
   },
   "outputs": [],
   "source": [
    "#fit random forest and predict proba\n",
    "rf.fit(rf_train,y)\n",
    "rf_pred = rf.predict_proba(rf_test)"
   ]
  },
  {
   "cell_type": "code",
   "execution_count": 32,
   "metadata": {
    "collapsed": true
   },
   "outputs": [],
   "source": [
    "# take weighted combination of two models\n",
    "comb_pred = 0.2*lr_pred + 0.8*rf_pred\n"
   ]
  },
  {
   "cell_type": "code",
   "execution_count": 33,
   "metadata": {
    "collapsed": true
   },
   "outputs": [],
   "source": [
    "#save predictions to csv file\n",
    "sub = pd.read_csv(\"data/sampleSubmission.csv\")\n",
    "sub[\"Action\"] = comb_pred\n",
    "sub.to_csv('myBestSubmission.csv',index=False)"
   ]
  },
  {
   "cell_type": "code",
   "execution_count": null,
   "metadata": {
    "collapsed": true
   },
   "outputs": [],
   "source": []
  }
 ],
 "metadata": {
  "kernelspec": {
   "display_name": "Python 3",
   "language": "python",
   "name": "python3"
  },
  "language_info": {
   "codemirror_mode": {
    "name": "ipython",
    "version": 3
   },
   "file_extension": ".py",
   "mimetype": "text/x-python",
   "name": "python",
   "nbconvert_exporter": "python",
   "pygments_lexer": "ipython3",
   "version": "3.6.0"
  }
 },
 "nbformat": 4,
 "nbformat_minor": 2
}
